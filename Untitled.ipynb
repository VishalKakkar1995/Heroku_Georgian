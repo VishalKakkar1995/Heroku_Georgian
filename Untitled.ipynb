{
 "cells": [
  {
   "cell_type": "code",
   "execution_count": 1,
   "id": "f7d16174",
   "metadata": {},
   "outputs": [],
   "source": [
    "from flask import Flask"
   ]
  },
  {
   "cell_type": "code",
   "execution_count": 3,
   "id": "f1eda138",
   "metadata": {},
   "outputs": [],
   "source": [
    "app= Flask(__name__)\n",
    "app.debug= True\n",
    "\n",
    "@app.route('/')\n",
    "\n",
    "def hello():\n",
    "    return(\"Hello : Vishal\")"
   ]
  },
  {
   "cell_type": "code",
   "execution_count": null,
   "id": "f2944f55",
   "metadata": {},
   "outputs": [],
   "source": [
    "from flask import Flask, request\n",
    "import json \n",
    "import random\n",
    "import requests\n",
    "app = Flask(__name__)\n",
    "app.debug = True\n",
    "\n",
    "@app.route('/')\n",
    "def hello():\n",
    "    return '{\"Hello\": \"World!\"}'\n",
    "\n",
    "@app.route('/webhook',methods=['POST'])\n",
    "def index():\n",
    "    #Get the geo-city entity from the dialogflow fullfilment request.\n",
    "    body = request.json\n",
    "    city= body['queryResult']['parameters']['geo-city']\n",
    "    \n",
    "    # Uncomment the next 2 lines  if you want to use a simple hard coded random reply.\n",
    "    # temperature = str(random.randint(-20,35))\n",
    "    # reply = '{\"fulfillmentMessages\": [ {\"text\": {\"text\": [\"The  temperature in '+ city +\", \"+ country +' it is ' + temperature + '\"] } } ]}'\n",
    "\n",
    "    # To openweather and return a real forcast note you will need to \n",
    "    # create an account at openweathermap.com and put your APPID below.\n",
    "    appId = '<YOUR APP ID'\n",
    "\n",
    "    #Connect to the API anf get the JSON file.\n",
    "    api_url='https://api.openweathermap.org/data/2.5/weather?q='+ city + '&units=metric&appid='+ appId\n",
    "    headers = {'Content-Type': 'application/json'} #Set the HTTP header for the API request\n",
    "    response = requests.get(api_url, headers=headers) #Connect to openweather and read the JSON response.\n",
    "    r=response.json() #Conver the JSON string to a dict for easier parsing.\n",
    "\n",
    "    #Extract weather data we want from the dict and conver to strings to make it easy to generate the dialogflow reply.\n",
    "    weather = str(r[\"weather\"][0][\"description\"])\n",
    "    temp = str(int(r['main']['temp']))\n",
    "    humidity = str(r[\"main\"][\"humidity\"])\n",
    "    pressure = str(r[\"main\"][\"pressure\"])  \n",
    "    windSpeed = str(r[\"wind\"][\"speed\"])\n",
    "    windDirection = str(r[\"wind\"][\"deg\"])\n",
    "    country=str(r[\"sys\"][\"country\"])\n",
    "    #build the Dialogflow reply.\n",
    "    reply = '{\"fulfillmentMessages\": [ {\"text\": {\"text\": [\"Currently in '+ city + ', '+ country + ' it is ' + temp + ' degrees and ' + weather + '\"] } } ]}'\n",
    "    return reply"
   ]
  }
 ],
 "metadata": {
  "kernelspec": {
   "display_name": "Python 3 (ipykernel)",
   "language": "python",
   "name": "python3"
  },
  "language_info": {
   "codemirror_mode": {
    "name": "ipython",
    "version": 3
   },
   "file_extension": ".py",
   "mimetype": "text/x-python",
   "name": "python",
   "nbconvert_exporter": "python",
   "pygments_lexer": "ipython3",
   "version": "3.9.12"
  }
 },
 "nbformat": 4,
 "nbformat_minor": 5
}
